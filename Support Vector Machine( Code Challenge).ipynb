{
 "cells": [
  {
   "cell_type": "code",
   "execution_count": 251,
   "metadata": {},
   "outputs": [],
   "source": [
    "#Impoorting the Libraries\n",
    "%matplotlib inline\n",
    "import matplotlib.pyplot as plt\n",
    "import pandas as pd\n",
    "import numpy as np"
   ]
  },
  {
   "cell_type": "code",
   "execution_count": 252,
   "metadata": {},
   "outputs": [],
   "source": [
    "#Importing The Dataset\n",
    "data= pd.read_csv(\"breast_cancer.csv\")"
   ]
  },
  {
   "cell_type": "code",
   "execution_count": 253,
   "metadata": {},
   "outputs": [
    {
     "data": {
      "text/html": [
       "<div>\n",
       "<style scoped>\n",
       "    .dataframe tbody tr th:only-of-type {\n",
       "        vertical-align: middle;\n",
       "    }\n",
       "\n",
       "    .dataframe tbody tr th {\n",
       "        vertical-align: top;\n",
       "    }\n",
       "\n",
       "    .dataframe thead th {\n",
       "        text-align: right;\n",
       "    }\n",
       "</style>\n",
       "<table border=\"1\" class=\"dataframe\">\n",
       "  <thead>\n",
       "    <tr style=\"text-align: right;\">\n",
       "      <th></th>\n",
       "      <th>A</th>\n",
       "      <th>B</th>\n",
       "      <th>C</th>\n",
       "      <th>D</th>\n",
       "      <th>E</th>\n",
       "      <th>F</th>\n",
       "      <th>G</th>\n",
       "      <th>H</th>\n",
       "      <th>I</th>\n",
       "      <th>J</th>\n",
       "      <th>K</th>\n",
       "    </tr>\n",
       "  </thead>\n",
       "  <tbody>\n",
       "    <tr>\n",
       "      <th>0</th>\n",
       "      <td>1000025</td>\n",
       "      <td>5</td>\n",
       "      <td>1</td>\n",
       "      <td>1</td>\n",
       "      <td>1</td>\n",
       "      <td>2</td>\n",
       "      <td>1.0</td>\n",
       "      <td>3</td>\n",
       "      <td>1</td>\n",
       "      <td>1</td>\n",
       "      <td>2</td>\n",
       "    </tr>\n",
       "    <tr>\n",
       "      <th>1</th>\n",
       "      <td>1002945</td>\n",
       "      <td>5</td>\n",
       "      <td>4</td>\n",
       "      <td>4</td>\n",
       "      <td>5</td>\n",
       "      <td>7</td>\n",
       "      <td>10.0</td>\n",
       "      <td>3</td>\n",
       "      <td>2</td>\n",
       "      <td>1</td>\n",
       "      <td>2</td>\n",
       "    </tr>\n",
       "    <tr>\n",
       "      <th>2</th>\n",
       "      <td>1015425</td>\n",
       "      <td>3</td>\n",
       "      <td>1</td>\n",
       "      <td>1</td>\n",
       "      <td>1</td>\n",
       "      <td>2</td>\n",
       "      <td>2.0</td>\n",
       "      <td>3</td>\n",
       "      <td>1</td>\n",
       "      <td>1</td>\n",
       "      <td>2</td>\n",
       "    </tr>\n",
       "    <tr>\n",
       "      <th>3</th>\n",
       "      <td>1016277</td>\n",
       "      <td>6</td>\n",
       "      <td>8</td>\n",
       "      <td>8</td>\n",
       "      <td>1</td>\n",
       "      <td>3</td>\n",
       "      <td>4.0</td>\n",
       "      <td>3</td>\n",
       "      <td>7</td>\n",
       "      <td>1</td>\n",
       "      <td>2</td>\n",
       "    </tr>\n",
       "    <tr>\n",
       "      <th>4</th>\n",
       "      <td>1017023</td>\n",
       "      <td>4</td>\n",
       "      <td>1</td>\n",
       "      <td>1</td>\n",
       "      <td>3</td>\n",
       "      <td>2</td>\n",
       "      <td>1.0</td>\n",
       "      <td>3</td>\n",
       "      <td>1</td>\n",
       "      <td>1</td>\n",
       "      <td>2</td>\n",
       "    </tr>\n",
       "  </tbody>\n",
       "</table>\n",
       "</div>"
      ],
      "text/plain": [
       "         A  B  C  D  E  F     G  H  I  J  K\n",
       "0  1000025  5  1  1  1  2   1.0  3  1  1  2\n",
       "1  1002945  5  4  4  5  7  10.0  3  2  1  2\n",
       "2  1015425  3  1  1  1  2   2.0  3  1  1  2\n",
       "3  1016277  6  8  8  1  3   4.0  3  7  1  2\n",
       "4  1017023  4  1  1  3  2   1.0  3  1  1  2"
      ]
     },
     "execution_count": 253,
     "metadata": {},
     "output_type": "execute_result"
    }
   ],
   "source": [
    "#Checking the top 5 row-columns of the dataframe\n",
    "data.head()"
   ]
  },
  {
   "cell_type": "code",
   "execution_count": 254,
   "metadata": {},
   "outputs": [
    {
     "data": {
      "text/plain": [
       "(699, 11)"
      ]
     },
     "execution_count": 254,
     "metadata": {},
     "output_type": "execute_result"
    }
   ],
   "source": [
    "#Dataset Shape\n",
    "data.shape"
   ]
  },
  {
   "cell_type": "code",
   "execution_count": 255,
   "metadata": {},
   "outputs": [
    {
     "data": {
      "text/plain": [
       "True"
      ]
     },
     "execution_count": 255,
     "metadata": {},
     "output_type": "execute_result"
    }
   ],
   "source": [
    "#Checking for any missing value in the dataset\n",
    "data.isnull().values.any()"
   ]
  },
  {
   "cell_type": "code",
   "execution_count": 256,
   "metadata": {},
   "outputs": [
    {
     "data": {
      "text/plain": [
       "A     0\n",
       "B     0\n",
       "C     0\n",
       "D     0\n",
       "E     0\n",
       "F     0\n",
       "G    16\n",
       "H     0\n",
       "I     0\n",
       "J     0\n",
       "K     0\n",
       "dtype: int64"
      ]
     },
     "execution_count": 256,
     "metadata": {},
     "output_type": "execute_result"
    }
   ],
   "source": [
    "#Locating the missing value coulmn\n",
    "data.isnull().sum()"
   ]
  },
  {
   "cell_type": "code",
   "execution_count": 257,
   "metadata": {},
   "outputs": [],
   "source": [
    "#Separating the dataset into features and label\n",
    "\n",
    "features= data.iloc[:, 1:10].values"
   ]
  },
  {
   "cell_type": "code",
   "execution_count": 258,
   "metadata": {},
   "outputs": [
    {
     "data": {
      "text/plain": [
       "array([ 1.,  5.,  1.,  1.,  3.,  8.,  1.,  1.,  1.,  1.,  1.,  1.,  3.,\n",
       "        1., 10.,  4.,  1.,  1.,  6.,  1., 10.,  3.,  1.,  1.,  1.,  4.,\n",
       "        1.,  1.,  1.,  1.,  1.,  1.,  3.,  2.,  1.,  1.,  8.,  1.,  9.,\n",
       "        3.,  9.,  1.,  2.,  6.,  4.,  1.,  4.,  1.,  3.,  2.,  1.,  4.,\n",
       "        2.,  8.,  6.,  3.,  1.,  1.,  1.,  2.,  5.,  1.,  1.,  1.,  1.,\n",
       "        1.,  1.,  1.,  3.,  1.,  1.,  8.,  2., 10.,  1.,  1.,  1.,  2.,\n",
       "        1.,  1.,  1.,  2.,  1.,  1.,  8.,  1.,  4.,  6.,  1.,  2.,  1.,\n",
       "        2.,  1.,  1.,  1.,  1.,  2.,  1.,  2., 10.,  1.,  4.,  1.,  1.,\n",
       "       10.,  4.,  8., 10.,  1.,  4.,  2.,  3., 10.,  3.,  1.,  1.,  1.,\n",
       "       10.,  1.,  1.,  2.,  1.,  2.,  1.,  7.,  1.,  7.,  1.,  4.,  1.,\n",
       "        1.,  1., 10.,  1.,  1.,  1.,  1.,  1.,  1.,  1.,  1.,  1.,  4.,\n",
       "        1.,  1.,  1.,  2.,  1.,  3.,  4.,  1.,  1.,  6.,  1.,  1.,  6.,\n",
       "        1.,  1.,  1.,  3.,  4.,  1.,  1.,  2.,  1.,  1.,  8., 10.,  1.,\n",
       "        2.,  1.,  1.,  1., 10.,  4.,  7.,  1.,  3.,  1.,  3.,  1.,  1.,\n",
       "        1.,  8.,  4.,  1.,  6., 10., 10.,  1.,  8., 10.,  1.,  1.,  1.,\n",
       "        1.,  5.,  4.,  1.,  1.,  5.,  4.,  1.,  1.,  1.,  9.,  3.,  1.,\n",
       "        1.,  1., 10.,  8.,  1., 10., 10.,  7.,  1.,  1.,  7.,  1.,  2.,\n",
       "        3.,  3.,  3.,  6.,  1.,  4.,  5.,  1.,  3.,  4.,  5.,  3.,  5.,\n",
       "        1.,  1.,  2.,  5.,  8.,  2.,  3.,  3.,  1.,  1.,  1.,  2.,  8.,\n",
       "        1.,  1.,  1.,  1., 10.,  5.,  2.,  1.,  2.,  1.,  1.,  1.,  1.,\n",
       "       10.,  6.,  4., 10., 10.,  1.,  3.,  2.,  2.,  1.,  1.,  1.,  2.,\n",
       "        1.,  1.,  1.,  1.,  1.,  1.,  3.,  1.,  2., 10.,  1., 10., 10.,\n",
       "       10.,  1.,  1.,  8.,  1.,  1.,  1.,  6.,  1.,  8.,  3.,  1.,  1.,\n",
       "        6.,  5.,  1.,  7.,  1.,  9.,  4.,  1.,  1.,  6.,  1.,  1.,  1.,\n",
       "       10.,  1.,  1.,  6.,  2.,  8.,  1.,  4.,  2.,  1.,  1., 10.,  1.,\n",
       "        1.,  1.,  1.,  2.,  4.,  2.,  1.,  2.,  6.,  3.,  1.,  8.,  1.,\n",
       "        1.,  5.,  1.,  1.,  1.,  1.,  8.,  1.,  2.,  1., 10.,  5.,  3.,\n",
       "        1.,  3., 10.,  1.,  1.,  1.,  7.,  3.,  4., 10., 10.,  1.,  2.,\n",
       "        1.,  1., 10., 10.,  1.,  1.,  1.,  1.,  1.,  2.,  1.,  1.,  1.,\n",
       "        1.,  4.,  1.,  1.,  6.,  2.,  1.,  1.,  2.,  3.,  2.,  1.,  1.,\n",
       "        2.,  4.,  1.,  1.,  1.,  1.,  1.,  1.,  1.,  1.,  7.,  1.,  1.,\n",
       "        1.,  3.,  1.,  1.,  1.,  2.,  1.,  1.,  1.,  6.,  1.,  2.,  6.,\n",
       "        5.,  1.,  2.,  1.,  3.,  7.,  1.,  1.,  1., 10.,  1.,  2.,  1.,\n",
       "        1.,  1.,  3.,  1.,  3.,  5.,  1.,  1.,  1.,  3.,  1., 10.,  4.,\n",
       "        3.,  1.,  6.,  1.,  1.,  1.,  1.,  8.,  3.,  1.,  3.,  8.,  1.,\n",
       "        1.,  8.,  6.,  1.,  1.,  3.,  1.,  3.,  1.,  1.,  7.,  2.,  5.,\n",
       "        1.,  1.,  1.,  3.,  1.,  1.,  1.,  1.,  1.,  1.,  1., 10.,  1.,\n",
       "        4., 10.,  5.,  1.,  3.,  1., 10., 10.,  1.,  1.,  4.,  1., 10.,\n",
       "       10.,  1.,  1.,  1.,  1.,  1.,  1.,  1.,  2.,  1.,  1.,  1., 10.,\n",
       "        1.,  1.,  1.,  1.,  1.,  1.,  1., 10.,  7.,  1.,  1.,  2.,  3.,\n",
       "        1.,  1.,  4., 10.,  1.,  2.,  1.,  1.,  2.,  1.,  3.,  1.,  1.,\n",
       "        1.,  1.,  2.,  1.,  1.,  1.,  1.,  1.,  1.,  1.,  1.,  2.,  1.,\n",
       "       10.,  1.,  1.,  7.,  1.,  1.,  2.,  1.,  1.,  1.,  2.,  3.,  1.,\n",
       "        1.,  1.,  1.,  1.,  1.,  1., 10.,  1.,  1.,  1., 10.,  4.,  5.,\n",
       "        1.,  1.,  3.,  1.,  1.,  1.,  1.,  1.,  1.,  6.,  5.,  1.,  6.,\n",
       "        1., 10.,  1.,  9.,  1.,  5.,  6.,  5.,  1.,  3.,  1.,  1.,  1.,\n",
       "        1.,  1.,  1.,  1.,  1.,  8.,  8.,  3.,  2.,  1., 10.,  1., 10.,\n",
       "       10., 10.,  1.,  1.,  1.,  1.,  1.,  1.,  1.,  1.,  3.,  3.,  1.,\n",
       "        2.,  1.,  5.,  1.,  1.,  1.,  1.,  1.,  1.,  4.,  1.,  1.,  8.,\n",
       "        3.,  1.,  3.,  3.,  1.,  1.,  1.,  1.,  1.,  1.,  3., 10.,  1.,\n",
       "        2.,  3.,  1.,  1.,  1.,  1.,  1.,  1.,  7.,  1.,  1.,  1.,  1.,\n",
       "        1.,  3.,  1.,  2.,  1.,  1.,  8.,  8.,  2.,  1.,  1.,  1.,  1.,\n",
       "        1.,  1.,  1.,  1., 10., 10.,  1.,  1.,  1.,  1.,  1.,  1.,  1.,\n",
       "        1.,  3.,  5.,  1.,  1.,  1.,  1.,  3.,  4.,  5.])"
      ]
     },
     "execution_count": 258,
     "metadata": {},
     "output_type": "execute_result"
    }
   ],
   "source": [
    "features[:,3]"
   ]
  },
  {
   "cell_type": "code",
   "execution_count": 259,
   "metadata": {},
   "outputs": [],
   "source": [
    "label = data.iloc[:, 10].values"
   ]
  },
  {
   "cell_type": "code",
   "execution_count": 260,
   "metadata": {},
   "outputs": [],
   "source": [
    "#Handeling the \"missing values(NaN)\" using Imputer\n",
    "from sklearn.preprocessing import Imputer\n",
    "imputer = Imputer(missing_values= 'NaN', strategy = 'mean', axis = 0)\n",
    "imputer = imputer.fit(features[:, 5:6])\n",
    "features[:, 5:6] = imputer.transform(features[:, 5:6])"
   ]
  },
  {
   "cell_type": "code",
   "execution_count": 261,
   "metadata": {},
   "outputs": [
    {
     "data": {
      "text/plain": [
       "array([ 1.        , 10.        ,  2.        ,  4.        ,  1.        ,\n",
       "       10.        , 10.        ,  1.        ,  1.        ,  1.        ,\n",
       "        1.        ,  1.        ,  3.        ,  3.        ,  9.        ,\n",
       "        1.        ,  1.        ,  1.        , 10.        ,  1.        ,\n",
       "       10.        ,  7.        ,  1.        ,  3.54465593,  1.        ,\n",
       "        7.        ,  1.        ,  1.        ,  1.        ,  1.        ,\n",
       "        1.        ,  1.        ,  5.        ,  1.        ,  1.        ,\n",
       "        1.        ,  1.        ,  1.        , 10.        ,  7.        ,\n",
       "        3.54465593,  3.        , 10.        ,  1.        ,  1.        ,\n",
       "        1.        ,  9.        ,  1.        ,  1.        ,  8.        ,\n",
       "        3.        ,  4.        ,  5.        ,  8.        ,  8.        ,\n",
       "        5.        ,  6.        ,  1.        , 10.        ,  2.        ,\n",
       "        3.        ,  2.        ,  8.        ,  2.        ,  1.        ,\n",
       "        2.        ,  1.        , 10.        ,  9.        ,  1.        ,\n",
       "        1.        ,  2.        ,  1.        , 10.        ,  4.        ,\n",
       "        2.        ,  1.        ,  1.        ,  3.        ,  1.        ,\n",
       "        1.        ,  1.        ,  1.        ,  2.        ,  9.        ,\n",
       "        4.        ,  8.        , 10.        ,  1.        ,  1.        ,\n",
       "        1.        ,  1.        ,  1.        ,  1.        ,  1.        ,\n",
       "        1.        ,  1.        ,  1.        ,  6.        , 10.        ,\n",
       "        5.        ,  5.        ,  1.        ,  3.        ,  1.        ,\n",
       "        3.        , 10.        , 10.        ,  1.        ,  9.        ,\n",
       "        2.        ,  9.        , 10.        ,  8.        ,  3.        ,\n",
       "        5.        ,  2.        , 10.        ,  3.        ,  2.        ,\n",
       "        1.        ,  2.        , 10.        , 10.        ,  7.        ,\n",
       "        1.        , 10.        ,  1.        , 10.        ,  1.        ,\n",
       "        1.        ,  1.        , 10.        ,  1.        ,  1.        ,\n",
       "        2.        ,  1.        ,  1.        ,  1.        ,  3.54465593,\n",
       "        1.        ,  1.        ,  5.        ,  5.        ,  1.        ,\n",
       "        3.54465593,  8.        ,  2.        ,  1.        , 10.        ,\n",
       "        1.        , 10.        ,  5.        ,  3.        ,  1.        ,\n",
       "       10.        ,  1.        ,  1.        ,  3.54465593, 10.        ,\n",
       "       10.        ,  1.        ,  1.        ,  3.        ,  3.54465593,\n",
       "        2.        , 10.        ,  1.        ,  1.        ,  1.        ,\n",
       "        1.        ,  1.        ,  1.        , 10.        , 10.        ,\n",
       "       10.        ,  1.        ,  1.        ,  1.        , 10.        ,\n",
       "        1.        ,  1.        ,  1.        , 10.        , 10.        ,\n",
       "        1.        ,  8.        , 10.        ,  8.        ,  1.        ,\n",
       "        8.        , 10.        ,  1.        ,  1.        ,  1.        ,\n",
       "        1.        ,  7.        ,  1.        ,  1.        ,  1.        ,\n",
       "       10.        , 10.        ,  1.        ,  1.        ,  1.        ,\n",
       "       10.        ,  5.        ,  1.        ,  1.        ,  1.        ,\n",
       "       10.        ,  8.        ,  1.        , 10.        , 10.        ,\n",
       "        5.        ,  1.        ,  1.        ,  4.        ,  1.        ,\n",
       "        1.        , 10.        ,  5.        ,  8.        , 10.        ,\n",
       "        1.        , 10.        ,  5.        ,  1.        , 10.        ,\n",
       "        7.        ,  8.        ,  1.        , 10.        ,  1.        ,\n",
       "        3.54465593, 10.        ,  2.        ,  9.        , 10.        ,\n",
       "        2.        ,  1.        ,  1.        ,  5.        ,  1.        ,\n",
       "        2.        , 10.        ,  9.        ,  1.        ,  3.54465593,\n",
       "        1.        , 10.        , 10.        , 10.        ,  8.        ,\n",
       "       10.        ,  1.        ,  1.        ,  1.        ,  8.        ,\n",
       "       10.        , 10.        , 10.        , 10.        ,  3.        ,\n",
       "        1.        , 10.        , 10.        ,  4.        ,  1.        ,\n",
       "       10.        ,  1.        , 10.        ,  4.        ,  1.        ,\n",
       "        3.54465593,  1.        ,  1.        ,  1.        ,  7.        ,\n",
       "        1.        ,  1.        , 10.        , 10.        , 10.        ,\n",
       "       10.        , 10.        ,  1.        ,  5.        , 10.        ,\n",
       "        1.        ,  1.        ,  3.54465593, 10.        ,  3.54465593,\n",
       "       10.        ,  5.        ,  3.54465593,  1.        , 10.        ,\n",
       "        4.        ,  1.        , 10.        ,  1.        , 10.        ,\n",
       "       10.        ,  1.        ,  1.        ,  3.        ,  5.        ,\n",
       "        1.        ,  1.        ,  1.        ,  1.        ,  1.        ,\n",
       "        3.54465593, 10.        ,  8.        ,  1.        ,  5.        ,\n",
       "       10.        ,  3.54465593,  1.        , 10.        ,  1.        ,\n",
       "        1.        , 10.        ,  1.        ,  4.        , 10.        ,\n",
       "        8.        ,  1.        ,  1.        , 10.        , 10.        ,\n",
       "        1.        , 10.        ,  1.        ,  1.        , 10.        ,\n",
       "       10.        ,  1.        ,  1.        ,  1.        , 10.        ,\n",
       "        1.        ,  1.        ,  1.        ,  1.        ,  8.        ,\n",
       "        1.        ,  1.        ,  3.        , 10.        ,  1.        ,\n",
       "        1.        ,  3.        , 10.        ,  4.        ,  7.        ,\n",
       "       10.        , 10.        ,  3.        ,  3.        ,  1.        ,\n",
       "        1.        , 10.        , 10.        ,  1.        ,  1.        ,\n",
       "        1.        ,  1.        ,  1.        ,  1.        ,  1.        ,\n",
       "        1.        ,  1.        ,  1.        ,  1.        ,  1.        ,\n",
       "        1.        , 10.        ,  1.        ,  1.        ,  1.        ,\n",
       "        1.        , 10.        ,  1.        ,  1.        ,  2.        ,\n",
       "        1.        , 10.        ,  1.        ,  1.        ,  1.        ,\n",
       "        1.        ,  1.        ,  1.        ,  1.        ,  1.        ,\n",
       "        9.        ,  1.        ,  1.        ,  4.        ,  1.        ,\n",
       "        1.        ,  1.        ,  1.        ,  2.        ,  1.        ,\n",
       "        1.        ,  3.54465593,  4.        ,  1.        , 10.        ,\n",
       "        3.        , 10.        ,  1.        ,  2.        ,  1.        ,\n",
       "        3.        , 10.        ,  1.        ,  1.        ,  1.        ,\n",
       "       10.        ,  1.        ,  2.        ,  1.        ,  1.        ,\n",
       "        1.        ,  1.        ,  1.        ,  1.        ,  8.        ,\n",
       "       10.        ,  1.        ,  1.        ,  1.        ,  1.        ,\n",
       "       10.        ,  4.        ,  3.        ,  2.        ,  1.        ,\n",
       "        1.        ,  1.        ,  1.        ,  1.        , 10.        ,\n",
       "        1.        ,  1.        ,  1.        , 10.        ,  1.        ,\n",
       "        6.        , 10.        ,  3.        ,  1.        ,  1.        ,\n",
       "        1.        ,  5.        ,  1.        ,  1.        ,  1.        ,\n",
       "        4.        , 10.        , 10.        ,  1.        ,  1.        ,\n",
       "        1.        ,  1.        ,  1.        ,  1.        ,  1.        ,\n",
       "        1.        ,  1.        ,  1.        ,  1.        , 10.        ,\n",
       "        1.        ,  1.        ,  5.        , 10.        ,  1.        ,\n",
       "        3.        ,  1.        , 10.        ,  3.        ,  4.        ,\n",
       "        1.        , 10.        ,  1.        , 10.        ,  5.        ,\n",
       "        1.        ,  1.        ,  1.        ,  1.        ,  1.        ,\n",
       "        1.        ,  1.        ,  1.        ,  1.        ,  1.        ,\n",
       "        1.        ,  5.        ,  4.        ,  1.        ,  1.        ,\n",
       "        1.        ,  1.        ,  1.        ,  1.        , 10.        ,\n",
       "       10.        ,  1.        ,  1.        ,  1.        , 10.        ,\n",
       "        1.        ,  1.        ,  5.        , 10.        ,  1.        ,\n",
       "        1.        ,  1.        ,  1.        ,  1.        ,  1.        ,\n",
       "       10.        ,  1.        ,  1.        ,  1.        ,  1.        ,\n",
       "        1.        ,  1.        ,  1.        ,  1.        ,  1.        ,\n",
       "        2.        ,  1.        ,  1.        ,  1.        ,  1.        ,\n",
       "        1.        , 10.        ,  1.        ,  1.        ,  5.        ,\n",
       "        1.        ,  1.        ,  1.        ,  5.        ,  1.        ,\n",
       "        1.        ,  1.        ,  1.        ,  1.        ,  1.        ,\n",
       "        1.        ,  1.        ,  1.        ,  1.        ,  1.        ,\n",
       "       10.        ,  1.        ,  3.        , 10.        ,  5.        ,\n",
       "       10.        , 10.        ,  1.        ,  1.        ,  2.        ,\n",
       "        1.        ,  1.        ,  1.        ,  1.        ,  1.        ,\n",
       "        1.        , 10.        , 10.        ,  1.        ,  1.        ,\n",
       "        1.        , 10.        ,  1.        ,  3.        ,  1.        ,\n",
       "        1.        , 10.        , 10.        ,  1.        , 10.        ,\n",
       "        1.        ,  1.        ,  1.        ,  1.        ,  1.        ,\n",
       "        1.        ,  1.        ,  1.        ,  1.        , 10.        ,\n",
       "        8.        ,  1.        ,  1.        , 10.        ,  1.        ,\n",
       "       10.        ,  2.        , 10.        ,  1.        ,  1.        ,\n",
       "        1.        ,  1.        ,  3.54465593,  1.        ,  1.        ,\n",
       "        1.        ,  2.        ,  1.        ,  1.        ,  1.        ,\n",
       "        4.        ,  6.        ,  5.        ,  1.        ,  1.        ,\n",
       "        1.        ,  1.        ,  1.        ,  3.        ,  1.        ,\n",
       "        1.        ,  1.        ,  2.        ,  1.        ,  1.        ,\n",
       "        1.        ,  1.        ,  1.        ,  1.        ,  1.        ,\n",
       "        1.        ,  1.        ,  1.        ,  2.        ,  1.        ,\n",
       "        4.        ,  1.        ,  1.        ,  1.        ,  1.        ,\n",
       "        1.        ,  1.        ,  1.        , 10.        ,  1.        ,\n",
       "        1.        ,  1.        ,  1.        ,  1.        ,  1.        ,\n",
       "        1.        ,  1.        ,  1.        ,  1.        ,  5.        ,\n",
       "        8.        ,  1.        ,  1.        ,  1.        ,  1.        ,\n",
       "        1.        ,  1.        ,  1.        ,  1.        ,  1.        ,\n",
       "       10.        , 10.        ,  1.        ,  1.        ,  1.        ,\n",
       "        1.        ,  1.        ,  1.        ,  1.        ,  1.        ,\n",
       "        1.        ,  5.        ,  1.        ,  1.        ,  2.        ,\n",
       "        1.        ,  3.        ,  4.        ,  5.        ])"
      ]
     },
     "execution_count": 261,
     "metadata": {},
     "output_type": "execute_result"
    }
   ],
   "source": [
    "features[:,5]"
   ]
  },
  {
   "cell_type": "code",
   "execution_count": 262,
   "metadata": {},
   "outputs": [],
   "source": [
    "# Spiltting the dataset into the training set and test set\n",
    "from sklearn.model_selection import train_test_split\n",
    "features_train, features_test, label_train, label_test = train_test_split(features, label, random_state= 0, test_size= 0.20)"
   ]
  },
  {
   "cell_type": "code",
   "execution_count": 265,
   "metadata": {},
   "outputs": [],
   "source": [
    "# Feature scaling the features for easy calculation\n",
    "from sklearn.preprocessing import StandardScaler\n",
    "sc = StandardScaler()\n",
    "features_train = sc.fit_transform(features_train)\n",
    "features_test= sc.transform(features_test)"
   ]
  },
  {
   "cell_type": "code",
   "execution_count": 266,
   "metadata": {},
   "outputs": [
    {
     "data": {
      "text/plain": [
       "SVC(C=1.0, cache_size=200, class_weight=None, coef0=0.0,\n",
       "  decision_function_shape='ovr', degree=3, gamma='auto', kernel='rbf',\n",
       "  max_iter=-1, probability=False, random_state=0, shrinking=True,\n",
       "  tol=0.001, verbose=False)"
      ]
     },
     "execution_count": 266,
     "metadata": {},
     "output_type": "execute_result"
    }
   ],
   "source": [
    "#Fitting SVM to the training set\n",
    "from sklearn.svm import SVC\n",
    "clf = SVC(kernel = \"rbf\", random_state= 0)\n",
    "clf.fit(features_train, label_train)"
   ]
  },
  {
   "cell_type": "code",
   "execution_count": 267,
   "metadata": {},
   "outputs": [],
   "source": [
    "#Predicting the test set result\n",
    "label_pred = clf.predict(features_test)\n",
    "\n"
   ]
  },
  {
   "cell_type": "code",
   "execution_count": 268,
   "metadata": {},
   "outputs": [],
   "source": [
    "#Making the confusion matrix\n",
    "from sklearn.metrics import confusion_matrix\n",
    "cm = confusion_matrix(label_test, label_pred)"
   ]
  },
  {
   "cell_type": "code",
   "execution_count": 269,
   "metadata": {},
   "outputs": [],
   "source": [
    "#Checking the model score\n",
    "score = clf.score(features_test, label_test)"
   ]
  },
  {
   "cell_type": "code",
   "execution_count": 281,
   "metadata": {},
   "outputs": [
    {
     "data": {
      "text/plain": [
       "97.14285714285714"
      ]
     },
     "execution_count": 281,
     "metadata": {},
     "output_type": "execute_result"
    }
   ],
   "source": [
    "#Model score in %\n",
    "score*100"
   ]
  },
  {
   "cell_type": "code",
   "execution_count": 276,
   "metadata": {},
   "outputs": [],
   "source": [
    "\n",
    "# Part (2) : On the basis of the given data, calculating the cancer type\n",
    "\n",
    "#Converting the given data point to numpy nd arrray\n",
    "a = sc.transform(np.array([6,2,5,3,9,4,7,2,2]).reshape(1,-1))"
   ]
  },
  {
   "cell_type": "code",
   "execution_count": 277,
   "metadata": {},
   "outputs": [
    {
     "name": "stdout",
     "output_type": "stream",
     "text": [
      "[[ 0.59265525 -0.35321869  0.62540584  0.07414818  2.6502012   0.16030676\n",
      "   1.51133064 -0.28346196  0.28196349]]\n"
     ]
    }
   ],
   "source": [
    "print(a)"
   ]
  },
  {
   "cell_type": "code",
   "execution_count": 279,
   "metadata": {},
   "outputs": [],
   "source": [
    "#Predicting the cancer type\n",
    "cancer_pred= clf.predict(a)"
   ]
  },
  {
   "cell_type": "code",
   "execution_count": 280,
   "metadata": {},
   "outputs": [
    {
     "name": "stdout",
     "output_type": "stream",
     "text": [
      "[4]\n"
     ]
    }
   ],
   "source": [
    "print(cancer_pred)"
   ]
  },
  {
   "cell_type": "code",
   "execution_count": 246,
   "metadata": {},
   "outputs": [
    {
     "data": {
      "text/plain": [
       "'Malignant'"
      ]
     },
     "execution_count": 246,
     "metadata": {},
     "output_type": "execute_result"
    }
   ],
   "source": [
    "#Cancer Type \n",
    "'Malignant'"
   ]
  }
 ],
 "metadata": {
  "kernelspec": {
   "display_name": "Python 3",
   "language": "python",
   "name": "python3"
  },
  "language_info": {
   "codemirror_mode": {
    "name": "ipython",
    "version": 3
   },
   "file_extension": ".py",
   "mimetype": "text/x-python",
   "name": "python",
   "nbconvert_exporter": "python",
   "pygments_lexer": "ipython3",
   "version": "3.7.0"
  }
 },
 "nbformat": 4,
 "nbformat_minor": 2
}
